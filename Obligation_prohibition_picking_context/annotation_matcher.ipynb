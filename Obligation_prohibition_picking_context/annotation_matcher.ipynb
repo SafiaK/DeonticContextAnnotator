{
 "cells": [
  {
   "cell_type": "code",
   "execution_count": 3,
   "metadata": {},
   "outputs": [],
   "source": [
    "import pandas as pd\n",
    "import json\n",
    "\n",
    "# Read the Excel file\n",
    "df = pd.read_excel('equality_act_annotations.xlsx')\n",
    "\n",
    "# Convert DataFrame to dictionary/JSON format\n",
    "json_data = df.to_dict(orient='records')\n",
    "\n",
    "# Save to JSON file\n",
    "with open('equalty_act_annotations.json', 'w', encoding='utf-8') as f:\n",
    "    json.dump(json_data, f, ensure_ascii=False, indent=4)"
   ]
  },
  {
   "cell_type": "code",
   "execution_count": 3,
   "metadata": {},
   "outputs": [
    {
     "name": "stdout",
     "output_type": "stream",
     "text": [
      "Neighbors: {'previous': {'id': 'schedule-3-part-8', 'title': 'Untitled'}, 'current': {'id': 'schedule-3-part-9', 'title': 'Untitled'}, 'next': {'id': 'schedule-3-part-10', 'title': 'Untitled'}}\n"
     ]
    }
   ],
   "source": [
    "    def get_neighbours_from_title_tree(file_name=\"title_tree.json\", target_id=None):\n",
    "        \"\"\"\n",
    "        Reads the title_tree.json file and retrieves the neighbors (previous and next) of a given ID.\n",
    "\n",
    "        Args:\n",
    "            file_name (str): Path to the title tree JSON file.\n",
    "            target_id (str): The ID of the element for which neighbors are to be found.\n",
    "\n",
    "        Returns:\n",
    "            dict: A dictionary containing the previous and next neighbors' IDs and titles.\n",
    "        \"\"\"\n",
    "        with open(file_name, \"r\", encoding=\"utf-8\") as f:\n",
    "            title_tree = json.load(f)\n",
    "\n",
    "        def find_neighbors(tree, target_id):\n",
    "            \"\"\"\n",
    "            Recursively searches the tree to find the neighbors of the target ID.\n",
    "\n",
    "            Args:\n",
    "                tree (list): The hierarchical tree structure.\n",
    "                target_id (str): The ID to search for.\n",
    "\n",
    "            Returns:\n",
    "                tuple: (previous, current, next) elements.\n",
    "            \"\"\"\n",
    "            flat_list = []\n",
    "\n",
    "            def flatten_tree(elements, parent=None):\n",
    "                for i, element in enumerate(elements):\n",
    "                    flat_list.append((element, parent))\n",
    "                    if element[\"children\"]:\n",
    "                        flatten_tree(element[\"children\"], element)\n",
    "\n",
    "            flatten_tree(tree)\n",
    "\n",
    "            for i, (element, parent) in enumerate(flat_list):\n",
    "                if element[\"id\"] == target_id:\n",
    "                    prev_elem = flat_list[i - 1][0] if i > 0 else None\n",
    "                    next_elem = flat_list[i + 1][0] if i < len(flat_list) - 1 else None\n",
    "                    return {\n",
    "                        \"previous\": {\"id\": prev_elem[\"id\"], \"title\": prev_elem[\"title\"]} if prev_elem else None,\n",
    "                        \"current\": {\"id\": element[\"id\"], \"title\": element[\"title\"]},\n",
    "                        \"next\": {\"id\": next_elem[\"id\"], \"title\": next_elem[\"title\"]} if next_elem else None,\n",
    "                    }\n",
    "            return None\n",
    "\n",
    "        return find_neighbors(title_tree, target_id)\n",
    "\n",
    "\n",
    "    # Example usage:\n",
    "    target_id = \"some-section-id\"\n",
    "    neighbors = get_neighbours_from_title_tree(\"title_tree.json\", \"schedule-3-part-9\")\n",
    "    print(\"Neighbors:\", neighbors)"
   ]
  },
  {
   "cell_type": "code",
   "execution_count": 10,
   "metadata": {},
   "outputs": [
    {
     "name": "stdout",
     "output_type": "stream",
     "text": [
      "Annotations without condition_sections: 138\n",
      "Annotations where act_section matches a condition: 154\n",
      "\n",
      "Annotations where act_section is not in condition_sections:\n"
     ]
    }
   ],
   "source": [
    "import json\n",
    "import pandas as pd\n",
    "# Initialize counters\n",
    "no_conditions = 0\n",
    "matching_sections = 0\n",
    "non_matching = []\n",
    "\n",
    "# Read JSON file\n",
    "with open('equalty_act_annotations_police.json', 'r', encoding='utf-8') as f:\n",
    "    data = json.load(f)\n",
    "\n",
    "# Analyze each annotation\n",
    "for annotation in data:\n",
    "    conditions = annotation.get('condition_sections', [])\n",
    "    act_section = annotation.get('act_section')\n",
    "    \n",
    "    # Count annotations without conditions\n",
    "    if not conditions:\n",
    "        no_conditions += 1\n",
    "    # Check if act_section matches any condition section\n",
    "    elif act_section in conditions.values():\n",
    "        matching_sections += 1\n",
    "    # Collect non-matching annotations\n",
    "    else:\n",
    "        non_matching.append(annotation)\n",
    "\n",
    "# Print report\n",
    "print(f\"Annotations without condition_sections: {no_conditions}\")\n",
    "print(f\"Annotations where act_section matches a condition: {matching_sections}\")\n",
    "print(f\"\\nAnnotations where act_section is not in condition_sections:\")\n",
    "for item in non_matching:\n",
    "    print(f\"Act section: {item['act_section']}, Conditions: {item['condition_sections']}\")\n"
   ]
  },
  {
   "cell_type": "code",
   "execution_count": null,
   "metadata": {},
   "outputs": [],
   "source": []
  },
  {
   "cell_type": "code",
   "execution_count": 12,
   "metadata": {},
   "outputs": [
    {
     "name": "stdout",
     "output_type": "stream",
     "text": [
      "Annotations without condition_sections: 243\n",
      "Annotations where act_section matches a condition: 150\n",
      "\n",
      "Annotations where act_section is not in condition_sections:\n",
      "Act section: section-101, Conditions: {'unless_0': 'section-100'}\n",
      "Act section: section-101, Conditions: {'unless_0': 'section-100'}\n",
      "Act section: section-101, Conditions: {'unless_0': 'section-100'}\n",
      "Act section: section-101, Conditions: {'unless_0': 'section-100'}\n",
      "Act section: section-101, Conditions: {'unless_0': 'section-100'}\n",
      "Act section: section-101, Conditions: {'unless_0': 'section-100'}\n",
      "Act section: section-101, Conditions: {'unless_0': 'section-100'}\n",
      "Act section: section-102, Conditions: {'unless_0': 'section-100'}\n",
      "Act section: section-102, Conditions: {'unless_0': 'section-100'}\n",
      "Act section: section-102, Conditions: {'unless_0': 'section-100'}\n",
      "Act section: section-102, Conditions: {'unless_0': 'section-100'}\n",
      "Act section: section-102, Conditions: {'unless_0': 'section-100'}\n",
      "Act section: section-108, Conditions: {'unless_0': 'section-100'}\n",
      "Act section: section-120, Conditions: {'unless_0': 'section-121'}\n",
      "Act section: section-168, Conditions: {'unless_0': 'section-169'}\n",
      "Act section: section-168, Conditions: {'unless_0': 'section-169'}\n"
     ]
    }
   ],
   "source": [
    "import json\n",
    "import pandas as pd\n",
    "# Initialize counters\n",
    "no_conditions = 0\n",
    "matching_sections = 0\n",
    "non_matching = []\n",
    "\n",
    "# Read JSON file\n",
    "with open('equalty_act_annotations2.json', 'r', encoding='utf-8') as f:\n",
    "    data = json.load(f)\n",
    "\n",
    "# Analyze each annotation\n",
    "for annotation in data:\n",
    "    conditions = annotation.get('condition_sections', [])\n",
    "    act_section = annotation.get('act_section')\n",
    "    \n",
    "    # Count annotations without conditions\n",
    "    if not conditions:\n",
    "        no_conditions += 1\n",
    "    # Check if act_section matches any condition section\n",
    "    elif act_section in conditions.values():\n",
    "        matching_sections += 1\n",
    "    # Collect non-matching annotations\n",
    "    else:\n",
    "        non_matching.append(annotation)\n",
    "\n",
    "# Print report\n",
    "print(f\"Annotations without condition_sections: {no_conditions}\")\n",
    "print(f\"Annotations where act_section matches a condition: {matching_sections}\")\n",
    "print(f\"\\nAnnotations where act_section is not in condition_sections:\")\n",
    "for item in non_matching:\n",
    "    print(f\"Act section: {item['act_section']}, Conditions: {item['condition_sections']}\")\n"
   ]
  },
  {
   "cell_type": "code",
   "execution_count": 6,
   "metadata": {},
   "outputs": [
    {
     "name": "stdout",
     "output_type": "stream",
     "text": [
      "Leaf node IDs saved to section_list.json\n"
     ]
    }
   ],
   "source": [
    "def get_leaf_ids_from_title_tree(file_name=\"title_tree.json\"):\n",
    "    \"\"\"\n",
    "    Reads the title_tree.json file and retrieves IDs of leaf nodes (nodes with no children).\n",
    "\n",
    "    Args:\n",
    "        file_name (str): Path to the title tree JSON file.\n",
    "\n",
    "    Returns:\n",
    "        list: A list of IDs of leaf nodes, excluding 'unknown'.\n",
    "    \"\"\"\n",
    "    with open(file_name, \"r\", encoding=\"utf-8\") as f:\n",
    "        title_tree = json.load(f)\n",
    "\n",
    "    def get_leaf_nodes(elements):\n",
    "        leaf_ids = []\n",
    "        for element in elements:\n",
    "            if element[\"id\"] != \"unknown\":\n",
    "                # Only append if the element has no children\n",
    "                if not element[\"children\"]:\n",
    "                    leaf_ids.append(element[\"id\"])\n",
    "                # Recursively check children\n",
    "                leaf_ids.extend(get_leaf_nodes(element[\"children\"]))\n",
    "        return leaf_ids\n",
    "\n",
    "    return get_leaf_nodes(title_tree)\n",
    "\n",
    "# Get leaf node IDs and store them in a JSON file\n",
    "leaf_ids = get_leaf_ids_from_title_tree(\"title_tree.json\")\n",
    "\n",
    "# Save to JSON file\n",
    "with open('section_list.json', 'w', encoding='utf-8') as f:\n",
    "    json.dump(leaf_ids, f, ensure_ascii=False, indent=4)\n",
    "\n",
    "print(\"Leaf node IDs saved to section_list.json\")\n"
   ]
  }
 ],
 "metadata": {
  "kernelspec": {
   "display_name": "ETPADV",
   "language": "python",
   "name": "python3"
  },
  "language_info": {
   "codemirror_mode": {
    "name": "ipython",
    "version": 3
   },
   "file_extension": ".py",
   "mimetype": "text/x-python",
   "name": "python",
   "nbconvert_exporter": "python",
   "pygments_lexer": "ipython3",
   "version": "3.11.9"
  }
 },
 "nbformat": 4,
 "nbformat_minor": 2
}
